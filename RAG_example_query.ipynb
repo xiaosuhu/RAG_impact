{
 "cells": [
  {
   "cell_type": "code",
   "execution_count": 1,
   "metadata": {},
   "outputs": [],
   "source": [
    "import psycopg2"
   ]
  },
  {
   "cell_type": "code",
   "execution_count": 2,
   "metadata": {},
   "outputs": [],
   "source": [
    "query1 = \"could you please tell me about the current research consensus for ketamine as a chronic pain treatment?\"\n"
   ]
  },
  {
   "cell_type": "code",
   "execution_count": 6,
   "metadata": {},
   "outputs": [],
   "source": [
    "def connect_db():\n",
    "    return psycopg2.connect(\n",
    "        host='localhost',\n",
    "        database = 'postgres',\n",
    "        user = 'postgres',\n",
    "        password = 'password',\n",
    "        port = '5432'\n",
    "    )"
   ]
  },
  {
   "cell_type": "code",
   "execution_count": 7,
   "metadata": {},
   "outputs": [
    {
     "name": "stdout",
     "output_type": "stream",
     "text": [
      "Title: Talk 4-2\n",
      "Content: Thank you very much for that warm introduction, and it's so nice to meet you all virtually from all across the world, from so many different disciplines. And, you know, perspectives really on on the medical world. I was very excited to be invited to this, since there is the patient perspective, the physician perspective, and it's an interdisciplinary discussion, and ketamine certainly is interdisciplinary as well. So I was tasked with the discussion of the pros and cons, and not to be biased, but I will let you know that I do believe in ketamine, and so that's my first bias before I show you any slide, but I will still be critical of some of the data that does exist, and I will be cognizant of time, and I will make sure to leave time for questions, and I look forward to our vibrant conversation this morning. So with a little bit of introduction, if my slides move, there we go. This is Monte Medical Center. Again, I do wear a few different hats. The most important one is mom and wife. But in addition to that, almost equal to that, is my passion from my vocation. I split my time between working in the perioperative environment, in the regional anesthesia world, covering the Acute Pain Service as well as the other half of my life is spent working with chronic pain patients. And I have a fascination of the acute on chronic pain patient as well, and a love of ketamine. So what are we actually going to be talking about today? I want to be fair, and let me just go up for one moment. I have a special thank you to give to one of my fellows, Dominique Chang, who did help me put together with some of these slides. And I'm very fair about this. I want to give credit where she wears due when she graduates, wherever she will go, she will be a superstar. So today, we're going to talk a little bit about history pharmacology, ketamine in the acute pain world, ketamine in the chronic pain world, and then ketamine for depression and PTSD. Because I think one of the most exciting things about ketamine is it's kind of like salt. You can put it in a lot of different recipes, and it still can be very valuable. And, you know, I think there's been a lot of that other uses. So you know, it's not just one, one peg that goes into a specific hole. It can be a little bit ubiquitous if you know how to use the tool in your hand. So let's talk a little bit about the history of ketamine. What is this medication anyway, and where, how did it even kind of, how do we even start thinking about it? Well, in the 1950s there was a new system that was a new chemical, organic reaction that led to the synthesis of something called PCP. And initially it was planned to be a medical compound, but they kind of noticed that it causes increases in blood pressure and nystagmus, and it did maintain respiration, but then at the same time, there were a lot of severe excitation and for profound psychosis. Hence, when it became a drug of substance abuse, as opposed to an excellent tool for clinical care. But there was something there in the water, and so they found a new compound eventually that had all the positive qualities of PCP, without the major side effects and the severe excitation and the profound psychosis, and that was the one that was eventually called ketamine in 1964 it was used in veterinary medicine first, and it's still used today for veterinary medicine, it was noted to show an excited drunken state in rodents, but kind of a Cate leptoid state in pigeons. And the first human actually received it between 1964 and 1966 and there was a study of over 100 people that was noted and published, and they received these sub anesthetic IV doses, and patients were able to actually report talking about these strange experience of feeling like they were floating and having no arms or legs, and others felt like they were dead. And came back. Well, fast forward to 1970 Kennedy received FDA approval after appropriate clinical trials, and during the Vietnam War, it became actually a widely used anesthetic and wounded victims with hemodynamic instability. And now, if we look at today, it's a modern tool in our toolbox, and has been used in clinical practice for about more than 50 years. In 1985 it was actually. It named an essential medicine by the WHO and actually was thought to be one of the most common anesthetics in the world. You know, recently, due to the opiate crisis, which I'm sure my audience is, is highly aware about, there was a renewed interest in ketamine, both for the acute and chronic pain spheres, and we'll be talking about that as well in terms of more recent guidelines, and even more recently than that, even in the last five years, it was actually proved as a nasal spray for the treatment of new indications, such as resistant depression. It's also been used for other medical disorders such as anxiety and suicidal ideation. So, you know, there's a lot of publicity in this world. This is a sample of an anesthesia Patient Safety Foundation newsletter from June of 2020 it talked about the potential benefits and side effects of ketamine, and also the history of ketamine. It's important to appreciate the fact that you can maintain respiratory drive, minimize cardiovascular depression, attenuate opiate induced hyperalgesia, provided as an adjuvant, acute on chronic pain, choice as an adjuvant, and it actually has anti suicidal and antidepressant properties. On the flip side, you still had to pay attention to some of the negative negatives, such as increased airway secretions and minimizing airway reflux attenuation, it can still be a sympathetic in elevating your heart rate, your blood pressure. Patients who are close to an MI with severe CAD should be used with caution with this medication. And of course, the hallucinations, confusions, vivid dreams and delirium are possible. There are these classic YouTube and Tiktok videos of parents taking pictures of their kids after some kind of surgery on who have received ketamine, where they're a little bit laughing at their kids separate conversation. But you may have seen those kind of videos on the internet, also double vision and blurry vision, and so this was a nice little review piece here, because it was actually discussing some of the benefits to review this established but kind of underappreciated medication, which might be the theme of this talk. That being said, we have to speak with caution, because ketamine gained recent publicity in December of 2023 where it showed that a very famous actor in the social world of the US, Matthew Perry, who had been a character and friends for many years, died as a result of the acute effects of ketamine and subsequent drowning. He was known to have been using this medication for depression and anxiety. And it was noted, though, that outside of the weekly depression dosing, he might have had actually higher levels of ketamine in his system that was found in his post mortem assessment. Sadly, the death was ruled to be an accident. But you know this, this is something where we talk about the discerning eye of ketamine. So let's talk a little bit about the pharmacology of ketamine. Okay, what is this drug that's so powerful it does so many things? Well, there's a few antimers of it. It has RNs. Thank you. Organic Chemistry. The s anti antemer is actually considered about three to four times more potent than its cousin, and has a greater affinity for the PCP binding receptor. The S version has a shorter duration of action and possesses greater neuro protective and analgesic properties than its R component, which might actually potentially make it a more ideal analgesic. But preclinical and clinical analgesic studies comparing the two have thus kind of yielded conflicting data so far in terms of abuse, potential studies comparing the two antimers have also produced mixed results. But for depression, two animal studies did demonstrate more sustained anti depression effects for the R antiandre, but there's no really clinical studies to guide this. Just know that there are two directions that ketamine can take.\n",
      "\n",
      "Title: Talk 4-6\n",
      "Content: Aniations, similar to multiple guidelines for epidural injections, conservative series of infusions should not be administered by root but rather tailored to the patient response. So patients should not be treated all the same, not one size fits all, but should be, you know, really titrated to the person, and considering the long term risks of ketamine, limiting to no more than six to 12 treatments per year is reasonable, so I think deviations can be made as well many times. We didn't do it that way necessarily, but that's grade C evidence and also still under discussion. Okay, so another thing that kind of gets exciting is all of these different receptors. So both in acute pain and chronic pain, there are lots of prevalence of rates of surgery and acute pain and post traumatic pain. And so I think there's a lot of room for further studies in this area. I want to make sure we have enough time for questions. This is a pain faculty talking about the use of non cancer pain outside of the US, and so again, it's being studied across the world. Reminder that there are many different sample infusion rates, and this is another one from halfway across the world. This is from Dr Cohen, who is not too far from us and recently moved institutions talking about his sample rates. And then I briefly want to touch on depression and make sure we have enough time for questions. I promised myself and promised at my my colleagues, that I would be on time and I will be so. I think this is an exciting subtopic, just to whet your appetite, remember that anybody who has depression, 1/3 of patients with chronic pain have concurrent psychiatric comorbidities such as depression, and so you wonder how much of these pathways overlap each other. There are clinical trials that have talked about ketamine for depression, for prevention of PTSD, the primary effects were thought to be part of the NMDA receptor, but actually may be part of these other glutamate pathways. May be affecting the gabapentinoid pathways, and there's a lot of beginnings of discussions on this topic. And if you're interested, I highly recommend there's a DR Huberman who is from Stanford in California, and he does these wonderful podcast type YouTube videos discussing these topics. He's an excellent speaker. And if you have a fascination in this specific subtype area, I highly recommend him. I don't know him, but I think his videos are great. So you know, what's interesting about ketamine for depression is, again, we're the electricians of the human body. We're playing with the NMDA receptor. We're trying to change that glutamate surge there, mother, there are a number of things that are modulated in the brain, and then there's an increase of gabapentin, GABA B levels. And so isn't it exciting that there can be this cascade of effects that have been noted to have serial surges and might actually be able to affect this state as well for post operative depression, it's been controversial, to be fair, the studies are still not 100% I clearly drink the Kool Aid. But please, let me be fair. In my conversation in 2023 there was a meta analysis of 15 studies that discussed perioperative ketamine, reducing post operative depression, increased risks, such as nausea, vomiting, hallucinations. In a double randomized blind trial, ketamine was given to 210, patients undergoing C section with spinal anesthesia, and the ketamine did not reduce their depression at one, two or four weeks post operatively. And you know, post postpartum depression is something that exists in 2021 ketamine was given to neurosurgery patients undergoing intracranial tumor resection, and this trial did show that ketamine could reveal moderate to severe depression in neurosurgical patients. So you know, we're kind of poking in the waters in this area, but I think there's a lot of room to keep digging. So these are a few references, and then, most importantly, this is my family. And so I leave you with the thoughts of, may you always have a purpose to do better as a person and as a professional, for your vocation, your ethics and your life choices, and this is the reason I do what I do. And with that, thank you very much. I'm on time, gentlemen and ladies, I have five minutes left for question. I'm going to stop sharing my slides.\n",
      "\n",
      "Title: Talk 4-5\n",
      "Content: Okay? And I think another thing that's very nice is that this is a global phenomenon, so this is just a sample of a five year study current, currently going on outside of the US. So I think it's important to recognize that we are thinking about this, these kind of studies all over the world. Okay, we talked a little bit about acute pain. We talked a little bit about history of ketamine. Now let's briefly talk about chronic pain. So chronic pain, which is my love. There's also consensus guidelines on chronic pain and ketamine. Again, same three societies. They also put out discussions many of the same authors, as you'll note here, since there are other people who wear these multiple hats of acute to chronic pain, and you know, ketamine IV infusions have been have been in existence for some time. When we think about what we know for sure, I mentioned being part of a CRPS center. So that is one of those areas where there is definite, moderate certainty, of evidence for ketamine infusions, and it's been shown to provide pain relief for up to 12 weeks. We can see here. Here's a sample of somebody with a CRPS syndrome of the foot. And I myself have been able to have the luxury of witnessing these patients from before and after their infusions, and then visiting us in the hospital afterwards. And you know, once you see it, you believe it. So I drink the Kool Aid for chronic pain patients for many other reasons, neuropathic pain, fibromyalgia, cancer pain, ischemic pain, migraine pain, low back pain. Unfortunately, there's still weak or no evidence really to support those uses. But I'm, I'm a personal believer. I just can't present to you that data today based on the 2018 guidelines. Okay, so what's the summary? CRPS is great, and everything else is dot, dot, dot. Well, excluding CRPS, there's no real evidence to support ketamine for intermediate or long term pain relief in those situations, there is low, low certainty evidence supporting oral ketamine as a follow up therapy after ketamine infusions. And there's also oral ketamine can be associated with high abuse potential and should be prescribed cautiously, right? So when we use it with the intranasal ketamine for breakthrough pain, it's it has some moderate evidence there, but it can be used for short term actin. So what do we really do with all of this? It's a little bit confusing, right? So we know it kind of works in the short term. We know it works for CRPS, but everything else, the waters are a little bit mucky at this point in time, even though Dr bersenko is telling you it's great, there are certain pain populations at the same time where ketamine should be considered for infusion therapy, well, for spinal cord injury, there is weak evidence supporting infusion rates ranging from 17 minutes to five hours for seven days, for short term improvements of pain, for CRPS, we talked about it that one, we feel like we can put a grade B checkmark recommendation for mixed neuropathic pain syndromes, like all the ones I mentioned right now, weak or no evidence, at least for immediate improvements of pain, grade D, unfortunately. So excluding CRPS, there's no real evidence supporting all these chronic pain and intermediate, long term improvements of pain. What are we going to do with that? Well, let's also talk about the contrary indications to continue this Debbie downward movement. Well, the contraindications are similar for acute pain and serial ketamine infusion should not be taken in patients who have active a substance abuse problem, and should be used along with universal cautions with regards to abuse, that's grade C evidence. Okay, so, and we've seen people who unfortunately have suffered the sequelae of ketamine. Okay, the other part of ketamine is it's really expensive, well, so this is from 2022 and this is a discussion from the Azra pain societies, and they talk about how expensive it is, so there's no FDA approved real indication for these infusions as a treatment modality, and the data has shown growing evidence that, you know, we don't really know exactly what we're doing here, so maybe we shouldn't pay for it. So I can tell you where I was, in one of my prior institutions, there were a lot of people there who had money, and so because of that, the numbers didn't quite matter so much, and they were able to have these seven day stays and to have these high dose treatments, and that wasn't really an issue. Many of them were lucky to have amazing results. That being said, this is not somebody, this is not a treatment that has equity, because insurance companies are not equal and this, this is not something where all patients can have access to this treatment. And I think that that's one of the things that also limits its exploration at this stage of the game. So is there any evidence for supporting. In therapeutic dose cutoff thresholds, infusion rates or higher doses. Maybe, if we give them a lot more, you know, maybe, maybe that'll make it better. Well, there's is moderate evidence to support higher dosage of ketamine over longer periods of time and more frequent in administration for chronic pain. So great. So if we can just get them the drug, give them more of it and do it more frequently, maybe we're gonna have better data there. There's similar strategies used for opiates and other analgesics with significant adverse effects, though, so it's reasonable to start with a single outpatient infusion and then kind of reassessing treatment. And so that's a great see evidence of great we can kind of titrate it up, but if we don't have access to the drug, and if it doesn't help everyone, there's, there's, there's some, there's some holes in this, in this road that we're trying to travel upon. So is there any role for oral ketamine? Okay, so IV infusions are kind of meh. We're not perfect here. What about oral or other NMDA receptor antagonisms as a follow up for treatment in rule of in lieu of repeat infusions? Well, there's low level support of oral ketamine and other NMDA receptor antagonism as a follow up therapy. There's moderate evidence to talk about intranasal and then also the oral ketamine still has significant abuse potential and street value. So you know, do we really want to be adding this to the waters of what exists in the in the common world, used with caution, and then also considering the cost and resources, it's kind of complicated, so at least we might want to consider these intranasal, oral and other treatments in lieu of serious treatment, at least that one is at least Grade B evidence, because the other stuff is so expensive and complicated to organize that maybe we can at least look at those other routes and begin to explore that more. So I'm encouraging this conversation, even outside of today's Grand Rounds. Okay, so let's just say that we have the ketamine Great. What tests should be ordered prior to an infusion of ketamine? Well, there's insufferative evidence about this as well. So pre infusion testing, we're not really sure what we need to do for the healthy person who's just starting this out, individuals at higher risk of cardiovascular events might might consider, you know, baseline ECG testing, you know, to exclude individuals with uncontrolled ischemic disease that we didn't know about and invasion in patients with baseline liver dysfunction who are alcoholics or people with chronic hepatitis or who are expected to receive very high doses of ketamine at frequent intervals, you know, basic and post infusion liver function tests should be considered, and that's grade C evidence all of this, as I mentioned in my in my clinical practice, we did do those kind of testing, but it's still grade C evidence. What training is prudent for patients who, for personnel, excuse me, who administer boluses and infusions and oversee titrations. Well, you know, ketamine doses, again, they vary, and so it's important to understand and see who these patients are and have appropriate follow up. Patients who are older might have different thresholds, so they might need different monitoring. Higher cutoffs with sub anesthetic doses may also be utilized, and so again, need to be recognized. But the basics of monitoring include hemodynamic and respiratory parameters, and they remain irrespective of the route of administration or dosing. We have to make sure these patients are okay, and of course, with that, we have to make sure there's availability of personnel and equipment for resuscitation at all times, and that is Grade C evidence. So no matter what happens, Grade A evidence is be safe and be prudent. What about what about preemptive medications for administration as rescue drugs. There's limited direct evidence support of the preemptive use of benzodiazepines, and no evidence to support antidepressant, antihistamine and anticholinergic pre medications. This is Grade C evidence. I do think, in my clinical practice, what we've always done is started the ketamine, and then, if needed, started the benzodiazepine, but there are times when they're started simultaneously, especially if they are patients that have had multiple rounds of this. There might be an expected reaction and expected dose dosing of this, and did recipe, but the recommendation preemptively is still grade C. So what constitutes a positive treatment response? Well, if we look at the refractory nature of this disease, a positive outcome was actually considered to be 30% greater or greater relief in conjunction with patient satisfaction. And as we can appreciate, you know, patient satisfaction is very hard in the chronic pain patient. On the flip side, 30% could be like a placebo effect. So what really is that? But you know, this is what the definition is discussed at in terms of duration of benefit, greater than 30 weeks as a single outpatient infusion, and greater than six weeks following an inpatient or series of infusions are considered reasonable delay.\n"
     ]
    }
   ],
   "source": [
    "conn = connect_db()\n",
    "cur = conn.cursor()\n",
    "    \n",
    "# Embed the query using the ollama_embed function\n",
    "cur.execute(\"\"\"\n",
    "    SELECT ollama_embed('nomic-embed-text', %s, _host=>'http://ollama_impact:11434');\n",
    "\"\"\", (query1,))\n",
    "query_embedding = cur.fetchone()[0]\n",
    "\n",
    "# Retrieve relevant documents based on cosine distance\n",
    "cur.execute(\"\"\"\n",
    "    SELECT title, content, 1 - (embedding <=> %s) AS similarity\n",
    "    FROM documents\n",
    "    ORDER BY similarity DESC\n",
    "    LIMIT 3;\n",
    "\"\"\", (query_embedding,))\n",
    "\n",
    "rows = cur.fetchall()\n",
    "    \n",
    "# Prepare the context for generating the response\n",
    "context = \"\\n\\n\".join([f\"Title: {row[0]}\\nContent: {row[1]}\" for row in rows])\n",
    "# print(context)\n",
    "\n",
    "cur.close()\n",
    "conn.close()"
   ]
  },
  {
   "cell_type": "code",
   "execution_count": 8,
   "metadata": {},
   "outputs": [
    {
     "name": "stdout",
     "output_type": "stream",
     "text": [
      "This text appears to be a summary of a lecture or presentation about ketamine treatment for chronic pain, likely given by Dr. David A. Weiner, a psychiatrist and researcher who has written extensively on the topic of ketamine's use as an off-label treatment for chronic pain.\n",
      "\n",
      "The speaker discusses various aspects of ketamine treatment, including:\n",
      "\n",
      "1. The importance of starting with single outpatient infusions and reassessing treatment.\n",
      "2. The potential role of oral ketamine or other NMDA receptor antagonists as a follow-up therapy.\n",
      "3. Pre-infusion testing, which may include baseline ECG testing for individuals at high risk of cardiovascular events, and liver function tests before and after infusion for patients with underlying liver disease.\n",
      "4. Training and monitoring requirements for patients receiving ketamine infusions, including the need to monitor hemodynamic and respiratory parameters.\n",
      "5. The use of preemptive medications for rescue drugs, such as benzodiazepines.\n",
      "\n",
      "The speaker also discusses criteria for defining a positive treatment response, which includes:\n",
      "\n",
      "* Greater than 30% relief in conjunction with patient satisfaction\n",
      "* Duration of benefit greater than 30 weeks as a single outpatient infusion, and greater than six weeks following an inpatient or series of infusions\n",
      "\n",
      "Overall, the presentation emphasizes the need for careful consideration and monitoring when using ketamine as a treatment for chronic pain.\n"
     ]
    }
   ],
   "source": [
    "conn = connect_db()\n",
    "cur = conn.cursor()\n",
    "\n",
    "# Generate the response using the ollama_generate function\n",
    "cur.execute(\"\"\"\n",
    "    SELECT ollama_generate('llama3.2', %s, _host=>'http://ollama_impact:11434');\n",
    "\"\"\", (f\"Query: {query1}\\nContext: {context}\",))\n",
    "    \n",
    "model_response = cur.fetchone()[0]\n",
    "print(model_response['response'])\n",
    "    \n",
    "cur.close()\n",
    "conn.close()"
   ]
  },
  {
   "cell_type": "code",
   "execution_count": null,
   "metadata": {},
   "outputs": [],
   "source": []
  }
 ],
 "metadata": {
  "kernelspec": {
   "display_name": "paintrek",
   "language": "python",
   "name": "python3"
  },
  "language_info": {
   "codemirror_mode": {
    "name": "ipython",
    "version": 3
   },
   "file_extension": ".py",
   "mimetype": "text/x-python",
   "name": "python",
   "nbconvert_exporter": "python",
   "pygments_lexer": "ipython3",
   "version": "3.10.14"
  }
 },
 "nbformat": 4,
 "nbformat_minor": 2
}
